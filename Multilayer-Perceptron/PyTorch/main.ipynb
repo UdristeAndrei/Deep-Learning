{
 "cells": [
  {
   "cell_type": "markdown",
   "id": "0f4423a1-22d4-47ad-b249-c2a20f4ead58",
   "metadata": {},
   "source": [
    "# Data processing \n",
    "Chose the hyperparameters of the model\n",
    "\n",
    "Select the \"GPU\" or \"CPU\" for training\n",
    "\n",
    "Download the images that will be used to train and validate the model\n",
    "\n",
    "Normalize and put the images in a data loader for easier manipulation\n",
    "\n",
    "Show a few of the images and their labels to confirm that the operations have been successfully executed"
   ]
  },
  {
   "cell_type": "code",
   "execution_count": 197,
   "id": "f80be7b7-f351-408e-b37d-d4f40dbde79b",
   "metadata": {},
   "outputs": [],
   "source": [
    "import torch\n",
    "import torchvision\n",
    "import numpy as np\n",
    "from tqdm import tqdm\n",
    "import matplotlib.pyplot as plt\n",
    "from torchvision.transforms import transforms"
   ]
  },
  {
   "cell_type": "code",
   "execution_count": 198,
   "id": "aa22b712-477c-4b05-9f51-97be4ac715d5",
   "metadata": {},
   "outputs": [],
   "source": [
    "batch_size = 32\n",
    "lr = 0.01\n",
    "momentum = 0.9\n",
    "epochs = 10"
   ]
  },
  {
   "cell_type": "code",
   "execution_count": 199,
   "id": "8cc31c7b-3280-4dac-b818-94bed855897f",
   "metadata": {},
   "outputs": [
    {
     "name": "stdout",
     "output_type": "stream",
     "text": [
      "cuda:0\n"
     ]
    }
   ],
   "source": [
    "device = torch.device('cuda:0' if torch.cuda.is_available() else 'cpu')\n",
    "print(device)"
   ]
  },
  {
   "cell_type": "code",
   "execution_count": 200,
   "id": "cfc1adf0-6e44-4032-9f7c-a3467224f809",
   "metadata": {},
   "outputs": [],
   "source": [
    "from torch.utils.tensorboard import SummaryWriter\n",
    "writer = SummaryWriter('runs/test')"
   ]
  },
  {
   "cell_type": "code",
   "execution_count": 201,
   "id": "678c2e1e-976e-470b-98c6-6d4a82640329",
   "metadata": {},
   "outputs": [],
   "source": [
    "def create_dataloader(path, train, batch=batch_size, shuffle=True):\n",
    "    transformations = transforms.Compose([transforms.ToTensor(),\n",
    "                                         transforms.Normalize(0.5, 0.5)])\n",
    "\n",
    "    data = torchvision. datasets.MNIST(path, train=train, download=True, transform=transformations)\n",
    "    dataloader = torch.utils.data.DataLoader(data, batch_size=batch, shuffle=shuffle)\n",
    "    return dataloader"
   ]
  },
  {
   "cell_type": "code",
   "execution_count": 202,
   "id": "29bd94a3-56dd-4c09-b6c8-6930c76689b5",
   "metadata": {},
   "outputs": [],
   "source": [
    "train_dataloader = create_dataloader(\"./data\", True)\n",
    "val_dataloader = create_dataloader(\"./data\", False)"
   ]
  },
  {
   "cell_type": "code",
   "execution_count": 203,
   "id": "09a2e176-83e2-4ef9-8fde-d0405cb8fa3f",
   "metadata": {},
   "outputs": [
    {
     "data": {
      "image/png": "[encoded data removed]",
      "text/plain": [
       "<Figure size 640x480 with 7 Axes>"
      ]
     },
     "metadata": {},
     "output_type": "display_data"
    }
   ],
   "source": [
    "def show_img(nr_img=7):\n",
    "    fig, ax = plt.subplots(1, nr_img)\n",
    "    \n",
    "    images, labels = next(iter(train_dataloader))\n",
    "    \n",
    "    for idx, image in enumerate(images[:nr_img]):\n",
    "        ax[idx].set_title(int(labels[idx]))\n",
    "        ax[idx].imshow(image[0], cmap=\"gray\")\n",
    "        ax[idx].axis(\"off\")\n",
    "\n",
    "    plt.show()\n",
    "    writer.add_figure(\"Sample input\", fig)\n",
    "    return images.to(device)\n",
    "    \n",
    "images = show_img()"
   ]
  },
  {
   "cell_type": "markdown",
   "id": "77dd1f86-09db-45da-88ff-2144a1b8d8e6",
   "metadata": {},
   "source": [
    "# Create model\n",
    "Create a MLP model using the PyTorch library.\n",
    "\n",
    "Create an optimizer and a loss function to update the weights of the model"
   ]
  },
  {
   "cell_type": "code",
   "execution_count": 204,
   "id": "4bb682fc-28ec-4306-bbc3-5886abe0b459",
   "metadata": {},
   "outputs": [],
   "source": [
    "import torch.nn as nn\n",
    "import torch.nn.functional as F"
   ]
  },
  {
   "cell_type": "code",
   "execution_count": 205,
   "id": "a107920d-264a-4343-99ec-7e6ae3b6cd82",
   "metadata": {},
   "outputs": [],
   "source": [
    "class Net(nn.Module):\n",
    "    def __init__(self):\n",
    "        super().__init__()\n",
    "        self.fc1 = nn.Linear(784, 400)\n",
    "        self.fc2 = nn.Linear(400, 150)\n",
    "        self.fc3 = nn.Linear(150, 10)\n",
    "\n",
    "    def forward(self, x):\n",
    "        x = torch.flatten(x, 1)\n",
    "        x = F.relu(self.fc1(x))\n",
    "        x = F.relu(self.fc2(x))\n",
    "        x = self.fc3(x)\n",
    "        return x\n",
    "\n",
    "\n",
    "net = Net()\n",
    "net.to(device)\n",
    "\n",
    "writer.add_graph(net, images)\n",
    "writer.close()"
   ]
  },
  {
   "cell_type": "code",
   "execution_count": 206,
   "id": "b34cdb52-e852-410b-8b98-ce760ab23327",
   "metadata": {},
   "outputs": [],
   "source": [
    "import torch.optim as optim\n",
    "\n",
    "criterion = nn.CrossEntropyLoss()\n",
    "optimizer = optim.SGD(net.parameters(), lr=lr, momentum=momentum)"
   ]
  },
  {
   "cell_type": "markdown",
   "id": "a715d730-6fd2-47a3-b95c-1ba2e0360eb2",
   "metadata": {},
   "source": [
    "# Train and Validate the model\n",
    "Train the model using the training data that has been generated in the previous steps \n",
    "\n",
    "Use the validation data to test for overfitting.\n",
    "\n",
    "Record the loss and accuracy of the model using tensorboard.\n",
    "\n",
    "Save the best and the last model after training."
   ]
  },
  {
   "cell_type": "code",
   "execution_count": 207,
   "id": "d3f53e9e-de9a-4d07-a106-ac5567d116b7",
   "metadata": {},
   "outputs": [],
   "source": [
    "def count_predictions(outputs, labels, correct_pred, total_pred):\n",
    "\n",
    "    predictions = torch.argmax(outputs, 1)\n",
    "\n",
    "    for label, prediction in zip(labels, predictions):\n",
    "        if label == prediction:\n",
    "            correct_pred[label] += 1\n",
    "        total_pred[label] += 1\n",
    "\n",
    "    return correct_pred, total_pred"
   ]
  },
  {
   "cell_type": "code",
   "execution_count": 208,
   "id": "d82cf7bc-ff38-4b01-8c74-3b089206d9b1",
   "metadata": {},
   "outputs": [],
   "source": [
    "def compute_accuracy(correct_pred, total_pred, name, epoch):\n",
    "\n",
    "    class_accuracy = 100 * correct_pred / total_pred\n",
    "    global_accuracy = 100 * sum(correct_pred) / sum(total_pred)\n",
    "\n",
    "    writer.add_scalar(f\"{name} Global Accuracy\", global_accuracy, epoch)\n",
    "    writer.add_scalars(f\"{name} Class Accuracy\", {f\"number-{i}\": acc for i, acc in zip(range(10), class_accuracy)}, epoch)"
   ]
  },
  {
   "cell_type": "code",
   "execution_count": 209,
   "id": "218193c5-5adf-453d-b579-f5f625e306ba",
   "metadata": {},
   "outputs": [],
   "source": [
    "def save_predictions(images, net_outputs, labels, epoch, nr_img=7):\n",
    "    fig, ax = plt.subplots(1, nr_img)\n",
    "    \n",
    "    conf, pred = torch.max(F.softmax(net_outputs, 1), 1)\n",
    "    for idx, image in enumerate(images[:nr_img]):\n",
    "        \n",
    "        ax[idx].set_title(f\"{round(float(conf[idx].cpu()) * 100, 2)}% \\n Pred: {int(pred[idx].cpu())} \\n Label: {int(labels[idx].cpu())}\", \n",
    "                          color=(\"green\" if pred[idx]==labels[idx] else \"red\"))\n",
    "        \n",
    "        ax[idx].imshow(image.cpu()[0], cmap=\"gray\")\n",
    "        ax[idx].axis(\"off\")\n",
    "\n",
    "    writer.add_figure(\"predictions\", fig, epoch)"
   ]
  },
  {
   "cell_type": "code",
   "execution_count": 210,
   "id": "7ddafcbd-e0a9-4ea6-93e3-7216084d63bc",
   "metadata": {},
   "outputs": [],
   "source": [
    "def validate_model(epoch):\n",
    "    net.eval()\n",
    "\n",
    "    correct_pred = np.zeros(10)\n",
    "    total_pred = np.zeros(10)\n",
    "\n",
    "    val_loss = 0  \n",
    "    for data in val_dataloader:\n",
    "        images, labels = data[0].to(device), data[1].to(device)\n",
    "\n",
    "        outputs = net(images)\n",
    "        loss = criterion(outputs, labels)\n",
    "\n",
    "        val_loss += loss.item()\n",
    "\n",
    "        correct_pred, total_pred = count_predictions(outputs, labels, correct_pred, total_pred)\n",
    "\n",
    "    save_predictions(images, outputs, labels, epoch)\n",
    "    writer.add_scalar(\"Validation Loss\", val_loss / len(val_dataloader), epoch)\n",
    "    compute_accuracy(correct_pred, total_pred, \"Validation\", epoch)\n",
    "    \n",
    "    return val_loss / len(val_dataloader)"
   ]
  },
  {
   "cell_type": "code",
   "execution_count": 211,
   "id": "2d60f8bc-b1e0-4402-9d7f-ed0332ff8751",
   "metadata": {},
   "outputs": [],
   "source": [
    "def train_model(epoch):\n",
    "    net.train(True)\n",
    "\n",
    "    correct_pred = np.zeros(10)\n",
    "    total_pred = np.zeros(10)\n",
    "\n",
    "    train_loss = 0\n",
    "    for idx, data in enumerate(train_dataloader):\n",
    "        images, labels = data[0].to(device), data[1].to(device)\n",
    "        \n",
    "        optimizer.zero_grad()\n",
    "    \n",
    "        outputs = net(images)\n",
    "        loss = criterion(outputs, labels)\n",
    "        loss.backward()\n",
    "        optimizer.step()\n",
    "\n",
    "        train_loss += loss.item()\n",
    "\n",
    "        correct_pred, total_pred = count_predictions(outputs, labels, correct_pred, total_pred)\n",
    "\n",
    "    writer.add_scalar(\"Training Loss\", train_loss / len(train_dataloader), epoch)\n",
    "    compute_accuracy(correct_pred, total_pred, \"Training\", epoch)"
   ]
  },
  {
   "cell_type": "code",
   "execution_count": 212,
   "id": "9cb7c0fc-9703-4bdb-ac66-f20c9bf603cd",
   "metadata": {
    "scrolled": true
   },
   "outputs": [
    {
     "name": "stderr",
     "output_type": "stream",
     "text": [
      "100%|██████████████████████████████████████████| 10/10 [06:22<00:00, 38.23s/it]\n"
     ]
    }
   ],
   "source": [
    "def main():\n",
    "    best_loss = np.inf\n",
    "    for epoch in tqdm(range(epochs)):\n",
    "\n",
    "        train_model(epoch)\n",
    "        curr_loss = validate_model(epoch)\n",
    "\n",
    "        if curr_loss < best_loss:\n",
    "            best_loss = curr_loss\n",
    "            torch.save(net, \"best.pt\")\n",
    "            \n",
    "        torch.save(net, \"last.pt\")\n",
    "\n",
    "if __name__ == \"__main__\":\n",
    "    main()"
   ]
  },
  {
   "cell_type": "code",
   "execution_count": null,
   "id": "45936faf-c98b-4150-8201-245b98e7971b",
   "metadata": {},
   "outputs": [],
   "source": []
  }
 ],
 "metadata": {
  "kernelspec": {
   "display_name": "Python 3 (ipykernel)",
   "language": "python",
   "name": "python3"
  },
  "language_info": {
   "codemirror_mode": {
    "name": "ipython",
    "version": 3
   },
   "file_extension": ".py",
   "mimetype": "text/x-python",
   "name": "python",
   "nbconvert_exporter": "python",
   "pygments_lexer": "ipython3",
   "version": "3.11.5"
  }
 },
 "nbformat": 4,
 "nbformat_minor": 5
}
